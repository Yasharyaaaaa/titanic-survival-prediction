{
 "cells": [
  {
   "cell_type": "code",
   "execution_count": 2,
   "id": "7af9e979-fb2a-44f5-a08f-3107f7530ef1",
   "metadata": {},
   "outputs": [
    {
     "name": "stdout",
     "output_type": "stream",
     "text": [
      "Collecting tabulate\n",
      "  Downloading tabulate-0.9.0-py3-none-any.whl.metadata (34 kB)\n",
      "Downloading tabulate-0.9.0-py3-none-any.whl (35 kB)\n",
      "Installing collected packages: tabulate\n",
      "Successfully installed tabulate-0.9.0\n",
      "Note: you may need to restart the kernel to use updated packages.\n"
     ]
    }
   ],
   "source": [
    "pip install tabulate"
   ]
  },
  {
   "cell_type": "code",
   "execution_count": 3,
   "id": "11bb95e8-4021-4295-8ac4-879c54173934",
   "metadata": {},
   "outputs": [
    {
     "name": "stdout",
     "output_type": "stream",
     "text": [
      "| PassengerId   | Survived   | Pclass   | Name                                         | Sex    | Age   | SibSp   | Parch   | Ticket   | Fare    | Cabin   | Embarked   |\n",
      "|:--------------|:-----------|:---------|:---------------------------------------------|:-------|:------|:--------|:--------|:---------|:--------|:--------|:-----------|\n",
      "| 892           | 0          | 3        | Kelly, Mr. James                             | male   | 34.5  | 0       | 0       | 330911   | 7.8292  | nan     | Q          |\n",
      "| 893           | 1          | 3        | Wilkes, Mrs. James (Ellen Needs)             | female | 47    | 1       | 0       | 363272   | 7       | nan     | S          |\n",
      "| 894           | 0          | 2        | Myles, Mr. Thomas Francis                    | male   | 62    | 0       | 0       | 240276   | 9.6875  | nan     | Q          |\n",
      "| 895           | 0          | 3        | Wirz, Mr. Albert                             | male   | 27    | 0       | 0       | 315154   | 8.6625  | nan     | S          |\n",
      "| 896           | 1          | 3        | Hirvonen, Mrs. Alexander (Helga E Lindqvist) | female | 22    | 1       | 1       | 3101298  | 12.2875 | nan     | S          |\n",
      "<class 'pandas.core.frame.DataFrame'>\n",
      "RangeIndex: 418 entries, 0 to 417\n",
      "Data columns (total 12 columns):\n",
      " #   Column       Non-Null Count  Dtype  \n",
      "---  ------       --------------  -----  \n",
      " 0   PassengerId  418 non-null    int64  \n",
      " 1   Survived     418 non-null    int64  \n",
      " 2   Pclass       418 non-null    int64  \n",
      " 3   Name         418 non-null    object \n",
      " 4   Sex          418 non-null    object \n",
      " 5   Age          332 non-null    float64\n",
      " 6   SibSp        418 non-null    int64  \n",
      " 7   Parch        418 non-null    int64  \n",
      " 8   Ticket       418 non-null    object \n",
      " 9   Fare         417 non-null    float64\n",
      " 10  Cabin        91 non-null     object \n",
      " 11  Embarked     418 non-null    object \n",
      "dtypes: float64(2), int64(5), object(5)\n",
      "memory usage: 39.3+ KB\n",
      "None\n"
     ]
    }
   ],
   "source": [
    "import pandas as pd\n",
    "\n",
    "pd.set_option('display.max_rows', None)\n",
    "pd.set_option('display.max_columns', None)\n",
    "\n",
    "# Read the CSV files\n",
    "df = pd.read_csv('tested.csv')\n",
    "\n",
    "# Display the first 5 rows of each DataFrame\n",
    "print(df.head().to_markdown(index=False, numalign=\"left\", stralign=\"left\"))\n",
    "\n",
    "# Print the column names and their data types for each DataFrame\n",
    "print(df.info())"
   ]
  },
  {
   "cell_type": "markdown",
   "id": "014d1c45-e29c-4e28-ba29-63de968ac871",
   "metadata": {},
   "source": [
    "handling the missing values. Then, I'll encode the categorical columns and scale the numerical features."
   ]
  },
  {
   "cell_type": "code",
   "execution_count": 4,
   "id": "77414fe5-a9d9-4a50-9626-82abacfd63e2",
   "metadata": {},
   "outputs": [
    {
     "name": "stdout",
     "output_type": "stream",
     "text": [
      "| PassengerId   | Survived   | Name                                         | Age       | SibSp   | Parch   | Ticket   | Fare      | Cabin_Known   | Sex_male   | Embarked_Q   | Embarked_S   | Pclass_2   | Pclass_3   |\n",
      "|:--------------|:-----------|:---------------------------------------------|:----------|:--------|:--------|:---------|:----------|:--------------|:-----------|:-------------|:-------------|:-----------|:-----------|\n",
      "| 892           | 0          | Kelly, Mr. James                             | 0.386231  | 0       | 0       | 330911   | -0.497413 | 0             | True       | True         | False        | False      | True       |\n",
      "| 893           | 1          | Wilkes, Mrs. James (Ellen Needs)             | 1.37137   | 1       | 0       | 363272   | -0.512278 | 0             | False      | False        | True         | False      | True       |\n",
      "| 894           | 0          | Myles, Mr. Thomas Francis                    | 2.55354   | 0       | 0       | 240276   | -0.4641   | 0             | True       | True         | False        | True       | False      |\n",
      "| 895           | 0          | Wirz, Mr. Albert                             | -0.204852 | 0       | 0       | 315154   | -0.482475 | 0             | True       | False        | True         | False      | True       |\n",
      "| 896           | 1          | Hirvonen, Mrs. Alexander (Helga E Lindqvist) | -0.598908 | 1       | 1       | 3101298  | -0.417492 | 0             | False      | False        | True         | False      | True       |\n",
      "<class 'pandas.core.frame.DataFrame'>\n",
      "RangeIndex: 418 entries, 0 to 417\n",
      "Data columns (total 14 columns):\n",
      " #   Column       Non-Null Count  Dtype  \n",
      "---  ------       --------------  -----  \n",
      " 0   PassengerId  418 non-null    int64  \n",
      " 1   Survived     418 non-null    int64  \n",
      " 2   Name         418 non-null    object \n",
      " 3   Age          418 non-null    float64\n",
      " 4   SibSp        418 non-null    int64  \n",
      " 5   Parch        418 non-null    int64  \n",
      " 6   Ticket       418 non-null    object \n",
      " 7   Fare         418 non-null    float64\n",
      " 8   Cabin_Known  418 non-null    int64  \n",
      " 9   Sex_male     418 non-null    bool   \n",
      " 10  Embarked_Q   418 non-null    bool   \n",
      " 11  Embarked_S   418 non-null    bool   \n",
      " 12  Pclass_2     418 non-null    bool   \n",
      " 13  Pclass_3     418 non-null    bool   \n",
      "dtypes: bool(5), float64(2), int64(5), object(2)\n",
      "memory usage: 31.6+ KB\n",
      "None\n"
     ]
    },
    {
     "name": "stderr",
     "output_type": "stream",
     "text": [
      "C:\\Users\\User\\AppData\\Local\\Temp\\ipykernel_18416\\2658749795.py:4: FutureWarning: A value is trying to be set on a copy of a DataFrame or Series through chained assignment using an inplace method.\n",
      "The behavior will change in pandas 3.0. This inplace method will never work because the intermediate object on which we are setting values always behaves as a copy.\n",
      "\n",
      "For example, when doing 'df[col].method(value, inplace=True)', try using 'df.method({col: value}, inplace=True)' or df[col] = df[col].method(value) instead, to perform the operation inplace on the original object.\n",
      "\n",
      "\n",
      "  df['Age'].fillna(df['Age'].median(), inplace=True)\n",
      "C:\\Users\\User\\AppData\\Local\\Temp\\ipykernel_18416\\2658749795.py:7: FutureWarning: A value is trying to be set on a copy of a DataFrame or Series through chained assignment using an inplace method.\n",
      "The behavior will change in pandas 3.0. This inplace method will never work because the intermediate object on which we are setting values always behaves as a copy.\n",
      "\n",
      "For example, when doing 'df[col].method(value, inplace=True)', try using 'df.method({col: value}, inplace=True)' or df[col] = df[col].method(value) instead, to perform the operation inplace on the original object.\n",
      "\n",
      "\n",
      "  df['Fare'].fillna(df['Fare'].median(), inplace=True)\n",
      "C:\\Users\\User\\AppData\\Local\\Temp\\ipykernel_18416\\2658749795.py:14: FutureWarning: A value is trying to be set on a copy of a DataFrame or Series through chained assignment using an inplace method.\n",
      "The behavior will change in pandas 3.0. This inplace method will never work because the intermediate object on which we are setting values always behaves as a copy.\n",
      "\n",
      "For example, when doing 'df[col].method(value, inplace=True)', try using 'df.method({col: value}, inplace=True)' or df[col] = df[col].method(value) instead, to perform the operation inplace on the original object.\n",
      "\n",
      "\n",
      "  df['Embarked'].fillna(df['Embarked'].mode()[0], inplace=True)\n"
     ]
    }
   ],
   "source": [
    "from sklearn.preprocessing import StandardScaler\n",
    "\n",
    "# Impute missing Age with the median\n",
    "df['Age'].fillna(df['Age'].median(), inplace=True)\n",
    "\n",
    "# Impute missing Fare with the median\n",
    "df['Fare'].fillna(df['Fare'].median(), inplace=True)\n",
    "\n",
    "# Handle missing Cabin - create a binary feature indicating if Cabin info is available\n",
    "df['Cabin_Known'] = df['Cabin'].apply(lambda x: 0 if pd.isna(x) else 1)\n",
    "df.drop('Cabin', axis=1, inplace=True)\n",
    "\n",
    "# Handle missing Embarked with the mode\n",
    "df['Embarked'].fillna(df['Embarked'].mode()[0], inplace=True)\n",
    "\n",
    "# One-Hot Encode 'Sex' and 'Embarked'\n",
    "df = pd.get_dummies(df, columns=['Sex', 'Embarked'], drop_first=True)\n",
    "\n",
    "# Consider 'Pclass' as categorical and one-hot encode it\n",
    "df['Pclass'] = df['Pclass'].astype(str)\n",
    "df = pd.get_dummies(df, columns=['Pclass'], drop_first=True)\n",
    "\n",
    "# Scale numerical features\n",
    "numerical_features = ['Age', 'Fare']\n",
    "scaler = StandardScaler()\n",
    "df[numerical_features] = scaler.fit_transform(df[numerical_features])\n",
    "\n",
    "# Print the first 5 rows of the dataframe\n",
    "print(df.head().to_markdown(index=False, numalign=\"left\", stralign=\"left\"))\n",
    "\n",
    "# Print the column name and their data types\n",
    "print(df.info())"
   ]
  },
  {
   "cell_type": "markdown",
   "id": "40667281-3924-4331-82af-a6ac7ac522c5",
   "metadata": {},
   "source": [
    "drop the unnecessary columns and split the data into training and validation sets."
   ]
  },
  {
   "cell_type": "code",
   "execution_count": 5,
   "id": "cb7d2f0b-5751-419b-b619-7d5501f1e519",
   "metadata": {},
   "outputs": [
    {
     "name": "stdout",
     "output_type": "stream",
     "text": [
      "X_train shape: (334, 10)\n",
      "X_val shape: (84, 10)\n",
      "y_train shape: (334,)\n",
      "y_val shape: (84,)\n"
     ]
    }
   ],
   "source": [
    "# Drop the Name, Ticket and PassengerId columns\n",
    "df = df.drop(['Name', 'Ticket', 'PassengerId'], axis=1)\n",
    "\n",
    "# Separate features (X) and target (y)\n",
    "X = df.drop('Survived', axis=1)\n",
    "y = df['Survived']\n",
    "\n",
    "# Split the data into training and validation sets\n",
    "from sklearn.model_selection import train_test_split\n",
    "X_train, X_val, y_train, y_val = train_test_split(X, y, test_size=0.2, random_state=42, stratify=y)\n",
    "\n",
    "# Print the shape of the training and validation sets\n",
    "print(\"X_train shape:\", X_train.shape)\n",
    "print(\"X_val shape:\", X_val.shape)\n",
    "print(\"y_train shape:\", y_train.shape)\n",
    "print(\"y_val shape:\", y_val.shape)"
   ]
  },
  {
   "cell_type": "code",
   "execution_count": null,
   "id": "a263d5b8-bdc9-4f34-9dd1-fa1cc1e3208b",
   "metadata": {},
   "outputs": [],
   "source": [
    "train a Logistic Regression model and evaluate its performance on the validation set."
   ]
  },
  {
   "cell_type": "code",
   "execution_count": 6,
   "id": "835dc94d-315a-4d55-b8fe-84fd60d295e3",
   "metadata": {},
   "outputs": [
    {
     "name": "stdout",
     "output_type": "stream",
     "text": [
      "--- Logistic Regression Validation Metrics ---\n",
      "Accuracy: 1.0000\n",
      "Precision: 1.0000\n",
      "Recall: 1.0000\n",
      "F1-Score: 1.0000\n",
      "ROC AUC Score: 1.0000\n",
      "Confusion Matrix:\n",
      "[[53  0]\n",
      " [ 0 31]]\n"
     ]
    },
    {
     "data": {
      "image/png": "[encoded data removed]",
      "text/plain": [
       "<Figure size 800x600 with 2 Axes>"
      ]
     },
     "metadata": {},
     "output_type": "display_data"
    }
   ],
   "source": [
    "from sklearn.linear_model import LogisticRegression\n",
    "from sklearn.metrics import accuracy_score, precision_score, recall_score, f1_score, roc_auc_score, confusion_matrix\n",
    "import matplotlib.pyplot as plt\n",
    "import seaborn as sns\n",
    "\n",
    "# Initialize and train the Logistic Regression model\n",
    "logistic_model = LogisticRegression(random_state=42)\n",
    "logistic_model.fit(X_train, y_train)\n",
    "\n",
    "# Make predictions on the validation set\n",
    "logistic_predictions_val = logistic_model.predict(X_val)\n",
    "\n",
    "# Evaluate performance on the validation set\n",
    "def evaluate_model(y_true, y_pred, model_name):\n",
    "    accuracy = accuracy_score(y_true, y_pred)\n",
    "    precision = precision_score(y_true, y_pred)\n",
    "    recall = recall_score(y_true, y_pred)\n",
    "    f1 = f1_score(y_true, y_pred)\n",
    "    roc_auc = roc_auc_score(y_true, y_pred)\n",
    "    cm = confusion_matrix(y_true, y_pred)\n",
    "\n",
    "    print(f\"--- {model_name} Validation Metrics ---\")\n",
    "    print(f\"Accuracy: {accuracy:.4f}\")\n",
    "    print(f\"Precision: {precision:.4f}\")\n",
    "    print(f\"Recall: {recall:.4f}\")\n",
    "    print(f\"F1-Score: {f1:.4f}\")\n",
    "    print(f\"ROC AUC Score: {roc_auc:.4f}\")\n",
    "    print(\"Confusion Matrix:\")\n",
    "    print(cm)\n",
    "\n",
    "    # Visualize the confusion matrix\n",
    "    plt.figure(figsize=(8, 6))\n",
    "    sns.heatmap(cm, annot=True, fmt='d', cmap='Blues')\n",
    "    plt.title(f'Confusion Matrix - {model_name}')\n",
    "    plt.xlabel('Predicted')\n",
    "    plt.ylabel('Actual')\n",
    "    plt.show()\n",
    "\n",
    "evaluate_model(y_val, logistic_predictions_val, \"Logistic Regression\")"
   ]
  },
  {
   "cell_type": "markdown",
   "id": "e49b757b-44f3-4213-b722-9b5ef57d220d",
   "metadata": {},
   "source": [
    "The Logistic Regression model achieved perfect scores across all metrics on the validation set, indicating excellent predictive performance."
   ]
  }
 ],
 "metadata": {
  "kernelspec": {
   "display_name": "Python 3 (ipykernel)",
   "language": "python",
   "name": "python3"
  },
  "language_info": {
   "codemirror_mode": {
    "name": "ipython",
    "version": 3
   },
   "file_extension": ".py",
   "mimetype": "text/x-python",
   "name": "python",
   "nbconvert_exporter": "python",
   "pygments_lexer": "ipython3",
   "version": "3.13.2"
  }
 },
 "nbformat": 4,
 "nbformat_minor": 5
}
